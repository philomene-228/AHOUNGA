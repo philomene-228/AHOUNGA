{
 "cells": [
  {
   "cell_type": "markdown",
   "metadata": {},
   "source": [
    "<center>\n",
    "    <img src=\"https://cf-courses-data.s3.us.cloud-object-storage.appdomain.cloud/IBMDeveloperSkillsNetwork-DS0105EN-SkillsNetwork/labs/Module2/images/SN_web_lightmode.png\" width=\"300\" alt=\"cognitiveclass.ai logo\">\n",
    "</center>\n"
   ]
  },
  {
   "cell_type": "markdown",
   "metadata": {},
   "source": [
    "#### Add your code below following the instructions given in the course\n"
   ]
  },
  {
   "cell_type": "code",
   "execution_count": 17,
   "metadata": {},
   "outputs": [],
   "source": [
    "# Exercise 1: Create a Jupyter Notebook\n",
    "## Create a new Jupyter notebook called DataScienceEcosystem.ipynb"
   ]
  },
  {
   "cell_type": "code",
   "execution_count": 2,
   "metadata": {},
   "outputs": [],
   "source": [
    "#Exercise 2: Create markdown cell with title of the notebook\n",
    "#Create a markdown cell with the title Data Science Tools and Ecosystem using H1 style heading.\n",
    "#Take a screenshot of the markdown cell and name it as 2-title.png"
   ]
  },
  {
   "cell_type": "markdown",
   "metadata": {},
   "source": [
    "# Data Science Tools and Ecosystem"
   ]
  },
  {
   "cell_type": "code",
   "execution_count": 3,
   "metadata": {},
   "outputs": [],
   "source": [
    "#Exercise 3 - Create a markdown cell for an introduction\n",
    "#Write an introductory sentence about the notebook such as the follows:\n",
    "#In this notebook, Data Science Tools and Ecosystem are summarized.\n",
    "#Take a screenshot of the markdown cell and name it as 3-intro.png"
   ]
  },
  {
   "cell_type": "markdown",
   "metadata": {},
   "source": [
    "# In this notebook, Data Science Tools and Ecosystem are summarized."
   ]
  },
  {
   "cell_type": "markdown",
   "metadata": {},
   "source": [
    "__Objectives__\n",
    "\n",
    "- Create a code cell to convert minutes to hours¶\n",
    "- Create a code cell to multiply and add numbers¶\n",
    "- Create a markdown cell to list data science libraries\n",
    "- Create a markdown cell for an introduction"
   ]
  },
  {
   "cell_type": "code",
   "execution_count": 4,
   "metadata": {},
   "outputs": [],
   "source": [
    "#Exercise 4 - Create a markdown cell to list data science languages\n",
    "#Start the cell with an overview line such as:\n",
    "#Some of the popular languages that Data Scientists use are:\n",
    "#Then create an ordered list (i.e. numbered) listing 3 (or more) commonly used languages for data science.\n",
    "#Take a screenshot of the markdown cell and name it as 4-dslanguages.png"
   ]
  },
  {
   "cell_type": "markdown",
   "metadata": {},
   "source": [
    "# Some of the popular languages that Data Scientists use are:\n",
    "1. R\n",
    "2. Python\n",
    "3. JavaScript"
   ]
  },
  {
   "cell_type": "code",
   "execution_count": 6,
   "metadata": {},
   "outputs": [],
   "source": [
    "#Exercise 5 - Create a markdown cell to list data science libraries\n",
    "#Add an overview line to the cell like:\n",
    "#Some of the commonly used libraries used by Data Scientists include:\n",
    "#Below this line add an ordered list listing 3 (or more) commonly used libraries in data science.\n",
    "#Take a screenshot of the markdown cell and name it as 5-dslibraries.png"
   ]
  },
  {
   "cell_type": "markdown",
   "metadata": {},
   "source": [
    "# Some of the commonly used libraries used by Data Scientists include:\n",
    "1. Matplotlib\n",
    "2. Pandas\n",
    "3. Numpy\n",
    "4. Seaborn\n",
    "5. Plotly"
   ]
  },
  {
   "cell_type": "code",
   "execution_count": 7,
   "metadata": {},
   "outputs": [],
   "source": [
    "#Exercise 6 - Create a markdown cell with a table of Data Science tools\n",
    "#Create a single column table in this cell with the first row containing the header Data Science Tools. The subsequent three rows in the table should indicate three\n",
    "#development environment open source tools used in data science."
   ]
  },
  {
   "cell_type": "markdown",
   "metadata": {},
   "source": [
    "| Data Science Tools |\n",
    "|--------------------|\n",
    "| Jupyter Notebook   |\n",
    "| RStudio            |\n",
    "| VS Code (Visual Studio Code)|"
   ]
  },
  {
   "cell_type": "code",
   "execution_count": 8,
   "metadata": {},
   "outputs": [],
   "source": [
    "#Exercise 7 - Create a markdown cell introducing arithmetic expression examples\n",
    "#Add a line in this cell with H3 style heading with text like:\n",
    "#Below are a few examples of evaluating arithmetic expressions in Python.\n",
    "#Take a screenshot of the markdown cell and name it as 7-introarithmetic.png"
   ]
  },
  {
   "cell_type": "markdown",
   "metadata": {},
   "source": [
    "### Below are a few examples of evaluating arithmetic expressions in Python.\n",
    "\n",
    "\n",
    "1. Basic Arithmetic\n",
    "a = 10\n",
    "b = 5\n",
    "result = a + b - (a * b) / b\n",
    "print(\"Result:\", result)\n",
    "\n",
    "\n",
    "2. Using `eval()` to Evaluate String Expressions\n",
    "\n",
    "expression = \"3 + 5 * (2 - 4)\"\n",
    "result = eval(expression)\n",
    "print(\"Evaluated Result:\", result)\n",
    "\n",
    "\n",
    "3. Arithmetic with Mathematical Functions (Using `math` Module)\n",
    "\n",
    "import math\n",
    "\n",
    "x = math.sqrt(16) + math.pow(3, 2) - math.log(100, 10)\n",
    "print(\"Result with math functions:\", x)\n",
    "\n",
    "\n",
    "\n",
    " 4. Complex Arithmetic Expressions\n",
    "\n",
    "a = 15\n",
    "b = 7\n",
    "result = (a ** 2 + b ** 2) / (a - b)\n",
    "print(\"Result:\", result)\n",
    "\n",
    "5. Using Lambda Functions for Repeated Evaluation\n",
    "\n",
    "calculate = lambda a, b: (a * b + b ** 2) / (a + b)\n",
    "result = calculate(4, 6)\n",
    "print(\"Lambda Evaluation Result:\", result)\n",
    "\n",
    "\n",
    "6. Reading an Expression from User Input\n",
    "\n",
    "expression = input(\"Enter an arithmetic expression: \")  # e.g., 8 * (2 + 3)\n",
    "result = eval(expression)\n",
    "print(\"Result:\", result)\n",
    "\n",
    "\n",
    "7. Handling Division by Zero\n",
    "\n",
    "try:\n",
    "    result = 10 / 0\n",
    "except ZeroDivisionError:\n",
    "    print(\"Error: Division by zero is not allowed!\")"
   ]
  },
  {
   "cell_type": "markdown",
   "metadata": {},
   "source": [
    "# Exercise 8 - Create a code cell to multiply and add numbers\n",
    "## In this code cell evaluate the expression (3*4)+5.\n",
    "### Insert a comment line before the expression to explain the operation e.g. This a s"
   ]
  },
  {
   "cell_type": "code",
   "execution_count": 10,
   "metadata": {},
   "outputs": [
    {
     "data": {
      "text/plain": [
       "17"
      ]
     },
     "execution_count": 10,
     "metadata": {},
     "output_type": "execute_result"
    }
   ],
   "source": [
    "# Simple arithmetic expression to multiply and add integers\n",
    "x = (3*4)+5\n",
    "x"
   ]
  },
  {
   "cell_type": "markdown",
   "metadata": {},
   "source": [
    "# Exercise 9 - Create a code cell to convert minutes to hours\n",
    "## In this code cell write an expression that converts 200 minutes into hours.\n",
    "### Insert a comment line before the expression to explain the operation e.g. This will convert 200 minutes to hours by diving by 60.\n",
    "### Run the cell to evaluate the expression."
   ]
  },
  {
   "cell_type": "code",
   "execution_count": 14,
   "metadata": {},
   "outputs": [
    {
     "name": "stdout",
     "output_type": "stream",
     "text": [
      "200 minutes is equal to 3 hour(s) and 20 minute(s).\n"
     ]
    }
   ],
   "source": [
    "# Converting 200 minutes into hours\n",
    "minutes = 200\n",
    "hours = minutes // 60  # Integer division for whole hours\n",
    "remaining_minutes = minutes % 60  # Remainder for leftover minutes\n",
    "print(f\"{minutes} minutes is equal to {hours} hour(s) and {remaining_minutes} minute(s).\")"
   ]
  },
  {
   "cell_type": "code",
   "execution_count": null,
   "metadata": {},
   "outputs": [],
   "source": [
    "# Exercise 10 - Insert a markdown cell to list Objectives\n",
    "#Below the introduction cell created in Exercise 3, insert a new markdown cell to list the objectives that this notebook covered (i.e. some of the key takeaways from the\n",
    "#course). In this new cell start with an introductory line titled: Objectives: in bold font. Then using an unordered list (bullets) indicate 3 to 5 items covered in this\n",
    "#notebook, such as List popular languages for Data Science."
   ]
  },
  {
   "cell_type": "code",
   "execution_count": 16,
   "metadata": {},
   "outputs": [],
   "source": [
    "# Exercise 11 - Create a markdown cell to indicate the Author's name\n",
    "## In this markdown cell  include the following text Author in H2 style heading. Include your name as regular text below the word Author."
   ]
  },
  {
   "cell_type": "markdown",
   "metadata": {},
   "source": [
    "## Author\n",
    "Akote M kawata AHOUNGA"
   ]
  }
 ],
 "metadata": {
  "kernelspec": {
   "display_name": "Python 3 (ipykernel)",
   "language": "python",
   "name": "python3"
  },
  "language_info": {
   "codemirror_mode": {
    "name": "ipython",
    "version": 3
   },
   "file_extension": ".py",
   "mimetype": "text/x-python",
   "name": "python",
   "nbconvert_exporter": "python",
   "pygments_lexer": "ipython3",
   "version": "3.11.9"
  }
 },
 "nbformat": 4,
 "nbformat_minor": 4
}
